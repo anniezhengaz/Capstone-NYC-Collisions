{
 "cells": [
  {
   "cell_type": "code",
   "execution_count": 1,
   "id": "bdcb8b28",
   "metadata": {},
   "outputs": [],
   "source": [
    "#Import necessary functions\n",
    "import pandas as pd\n",
    "import numpy as np\n",
    "import matplotlib\n",
    "import matplotlib.pyplot as plt\n",
    "import seaborn as sns\n",
    "import folium\n",
    "\n",
    "from datetime import datetime as dt\n",
    "from sklearn.preprocessing import OneHotEncoder\n",
    "\n",
    "%matplotlib inline"
   ]
  },
  {
   "cell_type": "code",
   "execution_count": 2,
   "id": "add6162d",
   "metadata": {},
   "outputs": [
    {
     "data": {
      "text/html": [
       "<div>\n",
       "<style scoped>\n",
       "    .dataframe tbody tr th:only-of-type {\n",
       "        vertical-align: middle;\n",
       "    }\n",
       "\n",
       "    .dataframe tbody tr th {\n",
       "        vertical-align: top;\n",
       "    }\n",
       "\n",
       "    .dataframe thead th {\n",
       "        text-align: right;\n",
       "    }\n",
       "</style>\n",
       "<table border=\"1\" class=\"dataframe\">\n",
       "  <thead>\n",
       "    <tr style=\"text-align: right;\">\n",
       "      <th></th>\n",
       "      <th>CRASH DATE TIME</th>\n",
       "      <th>BOROUGH</th>\n",
       "      <th>ZIP CODE</th>\n",
       "      <th>LATITUDE</th>\n",
       "      <th>LONGITUDE</th>\n",
       "      <th>NUMBER OF PERSONS INJURED</th>\n",
       "      <th>NUMBER OF PERSONS KILLED</th>\n",
       "      <th>CONTRIBUTING FACTOR VEHICLE 1</th>\n",
       "      <th>COLLISION_ID</th>\n",
       "      <th>VEHICLE TYPE CODE 1</th>\n",
       "      <th>CONTRIBUTING CATEGORY V1</th>\n",
       "      <th>SEASON</th>\n",
       "      <th>TIME OF DAY</th>\n",
       "      <th>IS RUSH HOUR</th>\n",
       "    </tr>\n",
       "  </thead>\n",
       "  <tbody>\n",
       "    <tr>\n",
       "      <th>0</th>\n",
       "      <td>2018-01-01 00:00:00</td>\n",
       "      <td>QUEENS</td>\n",
       "      <td>11419</td>\n",
       "      <td>40.68297</td>\n",
       "      <td>-73.82824</td>\n",
       "      <td>0</td>\n",
       "      <td>0</td>\n",
       "      <td>Passing Too Closely</td>\n",
       "      <td>3819067</td>\n",
       "      <td>Sedan</td>\n",
       "      <td>Moving Violation</td>\n",
       "      <td>Winter</td>\n",
       "      <td>Late Night</td>\n",
       "      <td>False</td>\n",
       "    </tr>\n",
       "    <tr>\n",
       "      <th>1</th>\n",
       "      <td>2018-01-01 00:00:00</td>\n",
       "      <td>BROOKLYN</td>\n",
       "      <td>11239</td>\n",
       "      <td>40.65306</td>\n",
       "      <td>-73.88202</td>\n",
       "      <td>0</td>\n",
       "      <td>0</td>\n",
       "      <td>Driver Inattention/Distraction</td>\n",
       "      <td>3820851</td>\n",
       "      <td>Sedan</td>\n",
       "      <td>Driver Inattention</td>\n",
       "      <td>Winter</td>\n",
       "      <td>Late Night</td>\n",
       "      <td>False</td>\n",
       "    </tr>\n",
       "    <tr>\n",
       "      <th>2</th>\n",
       "      <td>2018-01-01 00:00:00</td>\n",
       "      <td>BROOKLYN</td>\n",
       "      <td>11230</td>\n",
       "      <td>40.62418</td>\n",
       "      <td>-73.97048</td>\n",
       "      <td>0</td>\n",
       "      <td>0</td>\n",
       "      <td>Driver Inattention/Distraction</td>\n",
       "      <td>3822296</td>\n",
       "      <td>Station Wagon/Sport Utility Vehicle</td>\n",
       "      <td>Driver Inattention</td>\n",
       "      <td>Winter</td>\n",
       "      <td>Late Night</td>\n",
       "      <td>False</td>\n",
       "    </tr>\n",
       "    <tr>\n",
       "      <th>3</th>\n",
       "      <td>2018-01-01 00:00:00</td>\n",
       "      <td>BROOKLYN</td>\n",
       "      <td>11234</td>\n",
       "      <td>40.62877</td>\n",
       "      <td>-73.91825</td>\n",
       "      <td>1</td>\n",
       "      <td>0</td>\n",
       "      <td>Failure to Yield Right-of-Way</td>\n",
       "      <td>3820945</td>\n",
       "      <td>Sedan</td>\n",
       "      <td>Moving Violation</td>\n",
       "      <td>Winter</td>\n",
       "      <td>Late Night</td>\n",
       "      <td>False</td>\n",
       "    </tr>\n",
       "    <tr>\n",
       "      <th>4</th>\n",
       "      <td>2018-01-01 00:00:00</td>\n",
       "      <td>BROOKLYN</td>\n",
       "      <td>11230</td>\n",
       "      <td>40.62322</td>\n",
       "      <td>-73.96102</td>\n",
       "      <td>0</td>\n",
       "      <td>0</td>\n",
       "      <td>Driver Inattention/Distraction</td>\n",
       "      <td>3821055</td>\n",
       "      <td>Taxi</td>\n",
       "      <td>Driver Inattention</td>\n",
       "      <td>Winter</td>\n",
       "      <td>Late Night</td>\n",
       "      <td>False</td>\n",
       "    </tr>\n",
       "  </tbody>\n",
       "</table>\n",
       "</div>"
      ],
      "text/plain": [
       "       CRASH DATE TIME   BOROUGH  ZIP CODE  LATITUDE  LONGITUDE  \\\n",
       "0  2018-01-01 00:00:00    QUEENS     11419  40.68297  -73.82824   \n",
       "1  2018-01-01 00:00:00  BROOKLYN     11239  40.65306  -73.88202   \n",
       "2  2018-01-01 00:00:00  BROOKLYN     11230  40.62418  -73.97048   \n",
       "3  2018-01-01 00:00:00  BROOKLYN     11234  40.62877  -73.91825   \n",
       "4  2018-01-01 00:00:00  BROOKLYN     11230  40.62322  -73.96102   \n",
       "\n",
       "   NUMBER OF PERSONS INJURED  NUMBER OF PERSONS KILLED  \\\n",
       "0                          0                         0   \n",
       "1                          0                         0   \n",
       "2                          0                         0   \n",
       "3                          1                         0   \n",
       "4                          0                         0   \n",
       "\n",
       "    CONTRIBUTING FACTOR VEHICLE 1  COLLISION_ID  \\\n",
       "0             Passing Too Closely       3819067   \n",
       "1  Driver Inattention/Distraction       3820851   \n",
       "2  Driver Inattention/Distraction       3822296   \n",
       "3   Failure to Yield Right-of-Way       3820945   \n",
       "4  Driver Inattention/Distraction       3821055   \n",
       "\n",
       "                   VEHICLE TYPE CODE 1 CONTRIBUTING CATEGORY V1  SEASON  \\\n",
       "0                                Sedan         Moving Violation  Winter   \n",
       "1                                Sedan       Driver Inattention  Winter   \n",
       "2  Station Wagon/Sport Utility Vehicle       Driver Inattention  Winter   \n",
       "3                                Sedan         Moving Violation  Winter   \n",
       "4                                 Taxi       Driver Inattention  Winter   \n",
       "\n",
       "  TIME OF DAY  IS RUSH HOUR  \n",
       "0  Late Night         False  \n",
       "1  Late Night         False  \n",
       "2  Late Night         False  \n",
       "3  Late Night         False  \n",
       "4  Late Night         False  "
      ]
     },
     "execution_count": 2,
     "metadata": {},
     "output_type": "execute_result"
    }
   ],
   "source": [
    "df = pd.read_csv('data/Final_Motor_Vehicle_Collisions_QuBr_2018_2023-Model.csv')\n",
    "df.head()"
   ]
  },
  {
   "cell_type": "code",
   "execution_count": 3,
   "id": "67dfda14",
   "metadata": {},
   "outputs": [
    {
     "data": {
      "text/html": [
       "<div>\n",
       "<style scoped>\n",
       "    .dataframe tbody tr th:only-of-type {\n",
       "        vertical-align: middle;\n",
       "    }\n",
       "\n",
       "    .dataframe tbody tr th {\n",
       "        vertical-align: top;\n",
       "    }\n",
       "\n",
       "    .dataframe thead th {\n",
       "        text-align: right;\n",
       "    }\n",
       "</style>\n",
       "<table border=\"1\" class=\"dataframe\">\n",
       "  <thead>\n",
       "    <tr style=\"text-align: right;\">\n",
       "      <th></th>\n",
       "      <th>CRASH DATE TIME</th>\n",
       "      <th>BOROUGH</th>\n",
       "      <th>ZIP CODE</th>\n",
       "      <th>LATITUDE</th>\n",
       "      <th>LONGITUDE</th>\n",
       "      <th>NUMBER OF PERSONS INJURED</th>\n",
       "      <th>NUMBER OF PERSONS KILLED</th>\n",
       "      <th>CONTRIBUTING FACTOR VEHICLE 1</th>\n",
       "      <th>COLLISION_ID</th>\n",
       "      <th>VEHICLE TYPE CODE 1</th>\n",
       "      <th>CONTRIBUTING CATEGORY V1</th>\n",
       "      <th>SEASON</th>\n",
       "      <th>TIME OF DAY</th>\n",
       "      <th>IS RUSH HOUR</th>\n",
       "      <th>IF NIGHT</th>\n",
       "    </tr>\n",
       "  </thead>\n",
       "  <tbody>\n",
       "    <tr>\n",
       "      <th>0</th>\n",
       "      <td>2018-01-01 00:00:00</td>\n",
       "      <td>QUEENS</td>\n",
       "      <td>11419</td>\n",
       "      <td>40.68297</td>\n",
       "      <td>-73.82824</td>\n",
       "      <td>0</td>\n",
       "      <td>0</td>\n",
       "      <td>Passing Too Closely</td>\n",
       "      <td>3819067</td>\n",
       "      <td>Sedan</td>\n",
       "      <td>Moving Violation</td>\n",
       "      <td>Winter</td>\n",
       "      <td>Late Night</td>\n",
       "      <td>False</td>\n",
       "      <td>False</td>\n",
       "    </tr>\n",
       "    <tr>\n",
       "      <th>1</th>\n",
       "      <td>2018-01-01 00:00:00</td>\n",
       "      <td>BROOKLYN</td>\n",
       "      <td>11239</td>\n",
       "      <td>40.65306</td>\n",
       "      <td>-73.88202</td>\n",
       "      <td>0</td>\n",
       "      <td>0</td>\n",
       "      <td>Driver Inattention/Distraction</td>\n",
       "      <td>3820851</td>\n",
       "      <td>Sedan</td>\n",
       "      <td>Driver Inattention</td>\n",
       "      <td>Winter</td>\n",
       "      <td>Late Night</td>\n",
       "      <td>False</td>\n",
       "      <td>False</td>\n",
       "    </tr>\n",
       "    <tr>\n",
       "      <th>2</th>\n",
       "      <td>2018-01-01 00:00:00</td>\n",
       "      <td>BROOKLYN</td>\n",
       "      <td>11230</td>\n",
       "      <td>40.62418</td>\n",
       "      <td>-73.97048</td>\n",
       "      <td>0</td>\n",
       "      <td>0</td>\n",
       "      <td>Driver Inattention/Distraction</td>\n",
       "      <td>3822296</td>\n",
       "      <td>Station Wagon/Sport Utility Vehicle</td>\n",
       "      <td>Driver Inattention</td>\n",
       "      <td>Winter</td>\n",
       "      <td>Late Night</td>\n",
       "      <td>False</td>\n",
       "      <td>False</td>\n",
       "    </tr>\n",
       "    <tr>\n",
       "      <th>3</th>\n",
       "      <td>2018-01-01 00:00:00</td>\n",
       "      <td>BROOKLYN</td>\n",
       "      <td>11234</td>\n",
       "      <td>40.62877</td>\n",
       "      <td>-73.91825</td>\n",
       "      <td>1</td>\n",
       "      <td>0</td>\n",
       "      <td>Failure to Yield Right-of-Way</td>\n",
       "      <td>3820945</td>\n",
       "      <td>Sedan</td>\n",
       "      <td>Moving Violation</td>\n",
       "      <td>Winter</td>\n",
       "      <td>Late Night</td>\n",
       "      <td>False</td>\n",
       "      <td>False</td>\n",
       "    </tr>\n",
       "    <tr>\n",
       "      <th>4</th>\n",
       "      <td>2018-01-01 00:00:00</td>\n",
       "      <td>BROOKLYN</td>\n",
       "      <td>11230</td>\n",
       "      <td>40.62322</td>\n",
       "      <td>-73.96102</td>\n",
       "      <td>0</td>\n",
       "      <td>0</td>\n",
       "      <td>Driver Inattention/Distraction</td>\n",
       "      <td>3821055</td>\n",
       "      <td>Taxi</td>\n",
       "      <td>Driver Inattention</td>\n",
       "      <td>Winter</td>\n",
       "      <td>Late Night</td>\n",
       "      <td>False</td>\n",
       "      <td>False</td>\n",
       "    </tr>\n",
       "  </tbody>\n",
       "</table>\n",
       "</div>"
      ],
      "text/plain": [
       "       CRASH DATE TIME   BOROUGH  ZIP CODE  LATITUDE  LONGITUDE  \\\n",
       "0  2018-01-01 00:00:00    QUEENS     11419  40.68297  -73.82824   \n",
       "1  2018-01-01 00:00:00  BROOKLYN     11239  40.65306  -73.88202   \n",
       "2  2018-01-01 00:00:00  BROOKLYN     11230  40.62418  -73.97048   \n",
       "3  2018-01-01 00:00:00  BROOKLYN     11234  40.62877  -73.91825   \n",
       "4  2018-01-01 00:00:00  BROOKLYN     11230  40.62322  -73.96102   \n",
       "\n",
       "   NUMBER OF PERSONS INJURED  NUMBER OF PERSONS KILLED  \\\n",
       "0                          0                         0   \n",
       "1                          0                         0   \n",
       "2                          0                         0   \n",
       "3                          1                         0   \n",
       "4                          0                         0   \n",
       "\n",
       "    CONTRIBUTING FACTOR VEHICLE 1  COLLISION_ID  \\\n",
       "0             Passing Too Closely       3819067   \n",
       "1  Driver Inattention/Distraction       3820851   \n",
       "2  Driver Inattention/Distraction       3822296   \n",
       "3   Failure to Yield Right-of-Way       3820945   \n",
       "4  Driver Inattention/Distraction       3821055   \n",
       "\n",
       "                   VEHICLE TYPE CODE 1 CONTRIBUTING CATEGORY V1  SEASON  \\\n",
       "0                                Sedan         Moving Violation  Winter   \n",
       "1                                Sedan       Driver Inattention  Winter   \n",
       "2  Station Wagon/Sport Utility Vehicle       Driver Inattention  Winter   \n",
       "3                                Sedan         Moving Violation  Winter   \n",
       "4                                 Taxi       Driver Inattention  Winter   \n",
       "\n",
       "  TIME OF DAY  IS RUSH HOUR  IF NIGHT  \n",
       "0  Late Night         False     False  \n",
       "1  Late Night         False     False  \n",
       "2  Late Night         False     False  \n",
       "3  Late Night         False     False  \n",
       "4  Late Night         False     False  "
      ]
     },
     "execution_count": 3,
     "metadata": {},
     "output_type": "execute_result"
    }
   ],
   "source": [
    "# Create a new column 'IF NIGHT' based on whether 'Night' appears in the 'TIME OF DAY' column\n",
    "df['IF NIGHT'] = df['TIME OF DAY'].apply(lambda x: True if x == 'Night' else False)\n",
    "df.head()"
   ]
  },
  {
   "cell_type": "code",
   "execution_count": 4,
   "id": "275bcf9c",
   "metadata": {},
   "outputs": [
    {
     "name": "stdout",
     "output_type": "stream",
     "text": [
      "<class 'pandas.core.frame.DataFrame'>\n",
      "RangeIndex: 213962 entries, 0 to 213961\n",
      "Data columns (total 15 columns):\n",
      " #   Column                         Non-Null Count   Dtype  \n",
      "---  ------                         --------------   -----  \n",
      " 0   CRASH DATE TIME                213962 non-null  object \n",
      " 1   BOROUGH                        213962 non-null  object \n",
      " 2   ZIP CODE                       213962 non-null  int64  \n",
      " 3   LATITUDE                       213962 non-null  float64\n",
      " 4   LONGITUDE                      213962 non-null  float64\n",
      " 5   NUMBER OF PERSONS INJURED      213962 non-null  int64  \n",
      " 6   NUMBER OF PERSONS KILLED       213962 non-null  int64  \n",
      " 7   CONTRIBUTING FACTOR VEHICLE 1  213962 non-null  object \n",
      " 8   COLLISION_ID                   213962 non-null  int64  \n",
      " 9   VEHICLE TYPE CODE 1            213962 non-null  object \n",
      " 10  CONTRIBUTING CATEGORY V1       213962 non-null  object \n",
      " 11  SEASON                         213962 non-null  object \n",
      " 12  TIME OF DAY                    213962 non-null  object \n",
      " 13  IS RUSH HOUR                   213962 non-null  bool   \n",
      " 14  IF NIGHT                       213962 non-null  bool   \n",
      "dtypes: bool(2), float64(2), int64(4), object(7)\n",
      "memory usage: 21.6+ MB\n"
     ]
    }
   ],
   "source": [
    "df.info()"
   ]
  },
  {
   "cell_type": "markdown",
   "id": "a20c4a2d",
   "metadata": {},
   "source": [
    "#### Changing DateTime Index"
   ]
  },
  {
   "cell_type": "code",
   "execution_count": 5,
   "id": "a7ac9dc6",
   "metadata": {},
   "outputs": [],
   "source": [
    "#Change column to datetime datatype\n",
    "df['CRASH DATE TIME'] = pd.to_datetime(df['CRASH DATE TIME'])"
   ]
  },
  {
   "cell_type": "code",
   "execution_count": 6,
   "id": "44272435",
   "metadata": {},
   "outputs": [],
   "source": [
    "#Set to datetime index\n",
    "#df.set_index('CRASH DATE TIME', inplace=True)"
   ]
  },
  {
   "cell_type": "code",
   "execution_count": 7,
   "id": "07a61cbb",
   "metadata": {},
   "outputs": [
    {
     "data": {
      "text/plain": [
       "Driver Inattention/Distraction    73922\n",
       "Failure to Yield Right-of-Way     25286\n",
       "Following Too Closely             15919\n",
       "Backing Unsafely                  15133\n",
       "Passing Too Closely               12749\n",
       "Name: CONTRIBUTING FACTOR VEHICLE 1, dtype: int64"
      ]
     },
     "execution_count": 7,
     "metadata": {},
     "output_type": "execute_result"
    }
   ],
   "source": [
    "#Review the contributing factors\n",
    "df['CONTRIBUTING FACTOR VEHICLE 1'].value_counts(sort=True).head()"
   ]
  },
  {
   "cell_type": "code",
   "execution_count": 8,
   "id": "63c8d6ac",
   "metadata": {},
   "outputs": [
    {
     "data": {
      "text/plain": [
       "Moving Violation               104522\n",
       "Driver Inattention              83365\n",
       "Third-Party (Vehicular)          8118\n",
       "Bodily Impairment                6326\n",
       "Environmental Factors            3473\n",
       "Road Conditions                  2457\n",
       "Vehicle Defects                  2323\n",
       "Third-Party (Non-Vehicular)      1972\n",
       "Other Distractions               1241\n",
       "Internal Electronics Usage        165\n",
       "Name: CONTRIBUTING CATEGORY V1, dtype: int64"
      ]
     },
     "execution_count": 8,
     "metadata": {},
     "output_type": "execute_result"
    }
   ],
   "source": [
    "df['CONTRIBUTING CATEGORY V1'].value_counts()"
   ]
  },
  {
   "cell_type": "code",
   "execution_count": 9,
   "id": "1cf99553",
   "metadata": {},
   "outputs": [
    {
     "data": {
      "text/plain": [
       "0          True\n",
       "1         False\n",
       "2         False\n",
       "3          True\n",
       "4         False\n",
       "          ...  \n",
       "213957     True\n",
       "213958     True\n",
       "213959    False\n",
       "213960    False\n",
       "213961     True\n",
       "Name: CONTRIBUTING CATEGORY V1, Length: 213962, dtype: bool"
      ]
     },
     "execution_count": 9,
     "metadata": {},
     "output_type": "execute_result"
    }
   ],
   "source": [
    "df['CONTRIBUTING CATEGORY V1'] == 'Moving Violation'"
   ]
  },
  {
   "cell_type": "code",
   "execution_count": 10,
   "id": "9987621b",
   "metadata": {},
   "outputs": [
    {
     "data": {
      "text/html": [
       "<div>\n",
       "<style scoped>\n",
       "    .dataframe tbody tr th:only-of-type {\n",
       "        vertical-align: middle;\n",
       "    }\n",
       "\n",
       "    .dataframe tbody tr th {\n",
       "        vertical-align: top;\n",
       "    }\n",
       "\n",
       "    .dataframe thead th {\n",
       "        text-align: right;\n",
       "    }\n",
       "</style>\n",
       "<table border=\"1\" class=\"dataframe\">\n",
       "  <thead>\n",
       "    <tr style=\"text-align: right;\">\n",
       "      <th></th>\n",
       "      <th>CRASH DATE TIME</th>\n",
       "      <th>BOROUGH</th>\n",
       "      <th>ZIP CODE</th>\n",
       "      <th>LATITUDE</th>\n",
       "      <th>LONGITUDE</th>\n",
       "      <th>NUMBER OF PERSONS INJURED</th>\n",
       "      <th>NUMBER OF PERSONS KILLED</th>\n",
       "      <th>CONTRIBUTING FACTOR VEHICLE 1</th>\n",
       "      <th>COLLISION_ID</th>\n",
       "      <th>VEHICLE TYPE CODE 1</th>\n",
       "      <th>CONTRIBUTING CATEGORY V1</th>\n",
       "      <th>SEASON</th>\n",
       "      <th>TIME OF DAY</th>\n",
       "      <th>IS RUSH HOUR</th>\n",
       "      <th>IF NIGHT</th>\n",
       "    </tr>\n",
       "  </thead>\n",
       "  <tbody>\n",
       "    <tr>\n",
       "      <th>0</th>\n",
       "      <td>2018-01-01 00:00:00</td>\n",
       "      <td>QUEENS</td>\n",
       "      <td>11419</td>\n",
       "      <td>40.682970</td>\n",
       "      <td>-73.828240</td>\n",
       "      <td>0</td>\n",
       "      <td>0</td>\n",
       "      <td>Passing Too Closely</td>\n",
       "      <td>3819067</td>\n",
       "      <td>Sedan</td>\n",
       "      <td>Moving Violation</td>\n",
       "      <td>Winter</td>\n",
       "      <td>Late Night</td>\n",
       "      <td>False</td>\n",
       "      <td>False</td>\n",
       "    </tr>\n",
       "    <tr>\n",
       "      <th>3</th>\n",
       "      <td>2018-01-01 00:00:00</td>\n",
       "      <td>BROOKLYN</td>\n",
       "      <td>11234</td>\n",
       "      <td>40.628770</td>\n",
       "      <td>-73.918250</td>\n",
       "      <td>1</td>\n",
       "      <td>0</td>\n",
       "      <td>Failure to Yield Right-of-Way</td>\n",
       "      <td>3820945</td>\n",
       "      <td>Sedan</td>\n",
       "      <td>Moving Violation</td>\n",
       "      <td>Winter</td>\n",
       "      <td>Late Night</td>\n",
       "      <td>False</td>\n",
       "      <td>False</td>\n",
       "    </tr>\n",
       "    <tr>\n",
       "      <th>5</th>\n",
       "      <td>2018-01-01 00:05:00</td>\n",
       "      <td>BROOKLYN</td>\n",
       "      <td>11211</td>\n",
       "      <td>40.718460</td>\n",
       "      <td>-73.952810</td>\n",
       "      <td>0</td>\n",
       "      <td>0</td>\n",
       "      <td>Failure to Yield Right-of-Way</td>\n",
       "      <td>3818641</td>\n",
       "      <td>Sedan</td>\n",
       "      <td>Moving Violation</td>\n",
       "      <td>Winter</td>\n",
       "      <td>Late Night</td>\n",
       "      <td>False</td>\n",
       "      <td>False</td>\n",
       "    </tr>\n",
       "    <tr>\n",
       "      <th>6</th>\n",
       "      <td>2018-01-01 00:15:00</td>\n",
       "      <td>BROOKLYN</td>\n",
       "      <td>11236</td>\n",
       "      <td>40.645176</td>\n",
       "      <td>-73.906220</td>\n",
       "      <td>0</td>\n",
       "      <td>0</td>\n",
       "      <td>Unsafe Speed</td>\n",
       "      <td>3824618</td>\n",
       "      <td>Station Wagon/Sport Utility Vehicle</td>\n",
       "      <td>Moving Violation</td>\n",
       "      <td>Winter</td>\n",
       "      <td>Late Night</td>\n",
       "      <td>False</td>\n",
       "      <td>False</td>\n",
       "    </tr>\n",
       "    <tr>\n",
       "      <th>7</th>\n",
       "      <td>2018-01-01 00:27:00</td>\n",
       "      <td>QUEENS</td>\n",
       "      <td>11419</td>\n",
       "      <td>40.689133</td>\n",
       "      <td>-73.820860</td>\n",
       "      <td>0</td>\n",
       "      <td>0</td>\n",
       "      <td>Failure to Yield Right-of-Way</td>\n",
       "      <td>3821878</td>\n",
       "      <td>Sedan</td>\n",
       "      <td>Moving Violation</td>\n",
       "      <td>Winter</td>\n",
       "      <td>Late Night</td>\n",
       "      <td>False</td>\n",
       "      <td>False</td>\n",
       "    </tr>\n",
       "    <tr>\n",
       "      <th>...</th>\n",
       "      <td>...</td>\n",
       "      <td>...</td>\n",
       "      <td>...</td>\n",
       "      <td>...</td>\n",
       "      <td>...</td>\n",
       "      <td>...</td>\n",
       "      <td>...</td>\n",
       "      <td>...</td>\n",
       "      <td>...</td>\n",
       "      <td>...</td>\n",
       "      <td>...</td>\n",
       "      <td>...</td>\n",
       "      <td>...</td>\n",
       "      <td>...</td>\n",
       "      <td>...</td>\n",
       "    </tr>\n",
       "    <tr>\n",
       "      <th>213953</th>\n",
       "      <td>2022-12-31 21:00:00</td>\n",
       "      <td>BROOKLYN</td>\n",
       "      <td>11203</td>\n",
       "      <td>40.651650</td>\n",
       "      <td>-73.932045</td>\n",
       "      <td>2</td>\n",
       "      <td>0</td>\n",
       "      <td>Following Too Closely</td>\n",
       "      <td>4594617</td>\n",
       "      <td>Station Wagon/Sport Utility Vehicle</td>\n",
       "      <td>Moving Violation</td>\n",
       "      <td>Winter</td>\n",
       "      <td>Night</td>\n",
       "      <td>False</td>\n",
       "      <td>True</td>\n",
       "    </tr>\n",
       "    <tr>\n",
       "      <th>213955</th>\n",
       "      <td>2022-12-31 21:20:00</td>\n",
       "      <td>QUEENS</td>\n",
       "      <td>11106</td>\n",
       "      <td>40.759884</td>\n",
       "      <td>-73.936800</td>\n",
       "      <td>1</td>\n",
       "      <td>0</td>\n",
       "      <td>Failure to Yield Right-of-Way</td>\n",
       "      <td>4596703</td>\n",
       "      <td>Sedan</td>\n",
       "      <td>Moving Violation</td>\n",
       "      <td>Winter</td>\n",
       "      <td>Night</td>\n",
       "      <td>False</td>\n",
       "      <td>True</td>\n",
       "    </tr>\n",
       "    <tr>\n",
       "      <th>213957</th>\n",
       "      <td>2022-12-31 22:02:00</td>\n",
       "      <td>QUEENS</td>\n",
       "      <td>11102</td>\n",
       "      <td>40.766150</td>\n",
       "      <td>-73.919785</td>\n",
       "      <td>2</td>\n",
       "      <td>0</td>\n",
       "      <td>Following Too Closely</td>\n",
       "      <td>4594338</td>\n",
       "      <td>Sedan</td>\n",
       "      <td>Moving Violation</td>\n",
       "      <td>Winter</td>\n",
       "      <td>Night</td>\n",
       "      <td>False</td>\n",
       "      <td>True</td>\n",
       "    </tr>\n",
       "    <tr>\n",
       "      <th>213958</th>\n",
       "      <td>2022-12-31 22:10:00</td>\n",
       "      <td>BROOKLYN</td>\n",
       "      <td>11221</td>\n",
       "      <td>40.697582</td>\n",
       "      <td>-73.929830</td>\n",
       "      <td>0</td>\n",
       "      <td>0</td>\n",
       "      <td>Passing or Lane Usage Improper</td>\n",
       "      <td>4594636</td>\n",
       "      <td>Station Wagon/Sport Utility Vehicle</td>\n",
       "      <td>Moving Violation</td>\n",
       "      <td>Winter</td>\n",
       "      <td>Night</td>\n",
       "      <td>False</td>\n",
       "      <td>True</td>\n",
       "    </tr>\n",
       "    <tr>\n",
       "      <th>213961</th>\n",
       "      <td>2022-12-31 23:50:00</td>\n",
       "      <td>QUEENS</td>\n",
       "      <td>11103</td>\n",
       "      <td>40.763725</td>\n",
       "      <td>-73.914670</td>\n",
       "      <td>0</td>\n",
       "      <td>0</td>\n",
       "      <td>Backing Unsafely</td>\n",
       "      <td>4596267</td>\n",
       "      <td>Sedan</td>\n",
       "      <td>Moving Violation</td>\n",
       "      <td>Winter</td>\n",
       "      <td>Night</td>\n",
       "      <td>False</td>\n",
       "      <td>True</td>\n",
       "    </tr>\n",
       "  </tbody>\n",
       "</table>\n",
       "<p>104522 rows × 15 columns</p>\n",
       "</div>"
      ],
      "text/plain": [
       "           CRASH DATE TIME   BOROUGH  ZIP CODE   LATITUDE  LONGITUDE  \\\n",
       "0      2018-01-01 00:00:00    QUEENS     11419  40.682970 -73.828240   \n",
       "3      2018-01-01 00:00:00  BROOKLYN     11234  40.628770 -73.918250   \n",
       "5      2018-01-01 00:05:00  BROOKLYN     11211  40.718460 -73.952810   \n",
       "6      2018-01-01 00:15:00  BROOKLYN     11236  40.645176 -73.906220   \n",
       "7      2018-01-01 00:27:00    QUEENS     11419  40.689133 -73.820860   \n",
       "...                    ...       ...       ...        ...        ...   \n",
       "213953 2022-12-31 21:00:00  BROOKLYN     11203  40.651650 -73.932045   \n",
       "213955 2022-12-31 21:20:00    QUEENS     11106  40.759884 -73.936800   \n",
       "213957 2022-12-31 22:02:00    QUEENS     11102  40.766150 -73.919785   \n",
       "213958 2022-12-31 22:10:00  BROOKLYN     11221  40.697582 -73.929830   \n",
       "213961 2022-12-31 23:50:00    QUEENS     11103  40.763725 -73.914670   \n",
       "\n",
       "        NUMBER OF PERSONS INJURED  NUMBER OF PERSONS KILLED  \\\n",
       "0                               0                         0   \n",
       "3                               1                         0   \n",
       "5                               0                         0   \n",
       "6                               0                         0   \n",
       "7                               0                         0   \n",
       "...                           ...                       ...   \n",
       "213953                          2                         0   \n",
       "213955                          1                         0   \n",
       "213957                          2                         0   \n",
       "213958                          0                         0   \n",
       "213961                          0                         0   \n",
       "\n",
       "         CONTRIBUTING FACTOR VEHICLE 1  COLLISION_ID  \\\n",
       "0                  Passing Too Closely       3819067   \n",
       "3        Failure to Yield Right-of-Way       3820945   \n",
       "5        Failure to Yield Right-of-Way       3818641   \n",
       "6                         Unsafe Speed       3824618   \n",
       "7        Failure to Yield Right-of-Way       3821878   \n",
       "...                                ...           ...   \n",
       "213953           Following Too Closely       4594617   \n",
       "213955   Failure to Yield Right-of-Way       4596703   \n",
       "213957           Following Too Closely       4594338   \n",
       "213958  Passing or Lane Usage Improper       4594636   \n",
       "213961                Backing Unsafely       4596267   \n",
       "\n",
       "                        VEHICLE TYPE CODE 1 CONTRIBUTING CATEGORY V1  SEASON  \\\n",
       "0                                     Sedan         Moving Violation  Winter   \n",
       "3                                     Sedan         Moving Violation  Winter   \n",
       "5                                     Sedan         Moving Violation  Winter   \n",
       "6       Station Wagon/Sport Utility Vehicle         Moving Violation  Winter   \n",
       "7                                     Sedan         Moving Violation  Winter   \n",
       "...                                     ...                      ...     ...   \n",
       "213953  Station Wagon/Sport Utility Vehicle         Moving Violation  Winter   \n",
       "213955                                Sedan         Moving Violation  Winter   \n",
       "213957                                Sedan         Moving Violation  Winter   \n",
       "213958  Station Wagon/Sport Utility Vehicle         Moving Violation  Winter   \n",
       "213961                                Sedan         Moving Violation  Winter   \n",
       "\n",
       "       TIME OF DAY  IS RUSH HOUR  IF NIGHT  \n",
       "0       Late Night         False     False  \n",
       "3       Late Night         False     False  \n",
       "5       Late Night         False     False  \n",
       "6       Late Night         False     False  \n",
       "7       Late Night         False     False  \n",
       "...            ...           ...       ...  \n",
       "213953       Night         False      True  \n",
       "213955       Night         False      True  \n",
       "213957       Night         False      True  \n",
       "213958       Night         False      True  \n",
       "213961       Night         False      True  \n",
       "\n",
       "[104522 rows x 15 columns]"
      ]
     },
     "execution_count": 10,
     "metadata": {},
     "output_type": "execute_result"
    }
   ],
   "source": [
    "mv_de = df.loc[df['CONTRIBUTING CATEGORY V1'].isin(['Moving Violation', 'Driver Error'])]\n",
    "mv_de"
   ]
  },
  {
   "cell_type": "code",
   "execution_count": 11,
   "id": "691f7bf9",
   "metadata": {},
   "outputs": [
    {
     "data": {
      "text/html": [
       "<div>\n",
       "<style scoped>\n",
       "    .dataframe tbody tr th:only-of-type {\n",
       "        vertical-align: middle;\n",
       "    }\n",
       "\n",
       "    .dataframe tbody tr th {\n",
       "        vertical-align: top;\n",
       "    }\n",
       "\n",
       "    .dataframe thead th {\n",
       "        text-align: right;\n",
       "    }\n",
       "</style>\n",
       "<table border=\"1\" class=\"dataframe\">\n",
       "  <thead>\n",
       "    <tr style=\"text-align: right;\">\n",
       "      <th></th>\n",
       "      <th>CRASH DATE TIME</th>\n",
       "      <th>BOROUGH</th>\n",
       "      <th>ZIP CODE</th>\n",
       "      <th>LATITUDE</th>\n",
       "      <th>LONGITUDE</th>\n",
       "      <th>NUMBER OF PERSONS INJURED</th>\n",
       "      <th>NUMBER OF PERSONS KILLED</th>\n",
       "      <th>CONTRIBUTING FACTOR VEHICLE 1</th>\n",
       "      <th>COLLISION_ID</th>\n",
       "      <th>VEHICLE TYPE CODE 1</th>\n",
       "      <th>CONTRIBUTING CATEGORY V1</th>\n",
       "      <th>SEASON</th>\n",
       "      <th>TIME OF DAY</th>\n",
       "      <th>IS RUSH HOUR</th>\n",
       "      <th>IF NIGHT</th>\n",
       "    </tr>\n",
       "  </thead>\n",
       "  <tbody>\n",
       "  </tbody>\n",
       "</table>\n",
       "</div>"
      ],
      "text/plain": [
       "Empty DataFrame\n",
       "Columns: [CRASH DATE TIME, BOROUGH, ZIP CODE, LATITUDE, LONGITUDE, NUMBER OF PERSONS INJURED, NUMBER OF PERSONS KILLED, CONTRIBUTING FACTOR VEHICLE 1, COLLISION_ID, VEHICLE TYPE CODE 1, CONTRIBUTING CATEGORY V1, SEASON, TIME OF DAY, IS RUSH HOUR, IF NIGHT]\n",
       "Index: []"
      ]
     },
     "execution_count": 11,
     "metadata": {},
     "output_type": "execute_result"
    }
   ],
   "source": [
    "mv = df[df['CONTRIBUTING CATEGORY V1'] == 'Moving Violation']\n",
    "de = df[df['CONTRIBUTING CATEGORY V1'] == 'Driver Error']\n",
    "\n",
    "mv\n",
    "de"
   ]
  },
  {
   "cell_type": "markdown",
   "id": "94c0d603",
   "metadata": {},
   "source": [
    "### Season"
   ]
  },
  {
   "cell_type": "code",
   "execution_count": 12,
   "id": "fda4a0b7",
   "metadata": {},
   "outputs": [
    {
     "data": {
      "image/png": "[encoded data removed]",
      "text/plain": [
       "<Figure size 1200x600 with 1 Axes>"
      ]
     },
     "metadata": {},
     "output_type": "display_data"
    }
   ],
   "source": [
    "# Set up plots\n",
    "fig, (ax) = plt.subplots(figsize=(12,6))\n",
    "\n",
    "df['SEASON'].value_counts().plot(kind='bar')\n",
    "\n",
    "# Customize appearance\n",
    "ax.set_xlabel('Season');\n",
    "ax.set_ylabel('Count')\n",
    "ax.set_title('Distribution of Season of Collisions')\n",
    "ax.tick_params(axis='x', labelrotation=0);"
   ]
  },
  {
   "cell_type": "markdown",
   "id": "722bf106",
   "metadata": {},
   "source": [
    "### Time of Day"
   ]
  },
  {
   "cell_type": "code",
   "execution_count": 13,
   "id": "4a9b581c",
   "metadata": {
    "scrolled": false
   },
   "outputs": [
    {
     "data": {
      "image/png": "[encoded data removed]",
      "text/plain": [
       "<Figure size 1200x600 with 1 Axes>"
      ]
     },
     "metadata": {},
     "output_type": "display_data"
    }
   ],
   "source": [
    "# Set up plots\n",
    "fig, (ax) = plt.subplots(figsize=(12,6))\n",
    "\n",
    "df['TIME OF DAY'].value_counts().plot(kind='bar')\n",
    "\n",
    "# Customize appearance\n",
    "ax.set_xlabel('Time of Day');\n",
    "ax.set_ylabel('Count')\n",
    "ax.set_title('Distribution of Time of Day of Collisions')\n",
    "ax.tick_params(axis='x', labelrotation=0);"
   ]
  },
  {
   "cell_type": "markdown",
   "id": "d9c2ea46",
   "metadata": {},
   "source": [
    "### Rush Hour"
   ]
  },
  {
   "cell_type": "code",
   "execution_count": 14,
   "id": "2fd0a20f",
   "metadata": {},
   "outputs": [
    {
     "data": {
      "text/plain": [
       "False    143320\n",
       "True      70642\n",
       "Name: IS RUSH HOUR, dtype: int64"
      ]
     },
     "execution_count": 14,
     "metadata": {},
     "output_type": "execute_result"
    }
   ],
   "source": [
    "df['IS RUSH HOUR'].value_counts()"
   ]
  },
  {
   "cell_type": "code",
   "execution_count": 15,
   "id": "aeed6fc6",
   "metadata": {
    "scrolled": false
   },
   "outputs": [
    {
     "data": {
      "image/png": "[encoded data removed]",
      "text/plain": [
       "<Figure size 1000x600 with 1 Axes>"
      ]
     },
     "metadata": {},
     "output_type": "display_data"
    }
   ],
   "source": [
    "# Set up plots\n",
    "fig, (ax) = plt.subplots(figsize=(10,6))\n",
    "\n",
    "df['IS RUSH HOUR'].value_counts().plot(kind='bar')\n",
    "\n",
    "# Customize appearance\n",
    "ax.set_xlabel('Rush Hour');\n",
    "ax.set_ylabel('Count')\n",
    "ax.set_title('Distribution of Collisions during Rush Hour')\n",
    "ax.tick_params(axis='x', labelrotation=0);"
   ]
  },
  {
   "cell_type": "markdown",
   "id": "bf0066c1",
   "metadata": {},
   "source": [
    "## Zip Code"
   ]
  },
  {
   "cell_type": "code",
   "execution_count": 16,
   "id": "be3588df",
   "metadata": {
    "scrolled": true
   },
   "outputs": [
    {
     "data": {
      "text/plain": [
       "11207    6756\n",
       "11234    5003\n",
       "11101    4990\n",
       "11385    4715\n",
       "11236    4622\n",
       "11211    4601\n",
       "11206    4562\n",
       "11368    4424\n",
       "11208    4279\n",
       "11201    4217\n",
       "Name: ZIP CODE, dtype: int64"
      ]
     },
     "execution_count": 16,
     "metadata": {},
     "output_type": "execute_result"
    }
   ],
   "source": [
    "df['ZIP CODE'].value_counts().head(10)"
   ]
  },
  {
   "cell_type": "code",
   "execution_count": 17,
   "id": "3eb84d23",
   "metadata": {},
   "outputs": [
    {
     "data": {
      "image/png": "[encoded data removed]",
      "text/plain": [
       "<Figure size 1000x600 with 1 Axes>"
      ]
     },
     "metadata": {},
     "output_type": "display_data"
    }
   ],
   "source": [
    "# Set up plots\n",
    "fig, (ax) = plt.subplots(figsize=(10,6))\n",
    "\n",
    "df['ZIP CODE'].value_counts().head(10).plot(kind='bar')\n",
    "\n",
    "# Customize appearance\n",
    "ax.set_xlabel('Zip Code');\n",
    "ax.set_ylabel('Count')\n",
    "ax.set_title('Distribution of Collisions per Zip Code')\n",
    "ax.tick_params(axis='x', labelrotation=0);"
   ]
  },
  {
   "cell_type": "markdown",
   "id": "7f544f5a",
   "metadata": {},
   "source": [
    "### Contributing Factor Graphs"
   ]
  },
  {
   "cell_type": "code",
   "execution_count": 18,
   "id": "2d8dab9d",
   "metadata": {},
   "outputs": [
    {
     "data": {
      "image/png": "[encoded data removed]",
      "text/plain": [
       "<Figure size 1500x600 with 1 Axes>"
      ]
     },
     "metadata": {},
     "output_type": "display_data"
    }
   ],
   "source": [
    "# Set up plots\n",
    "fig, (ax) = plt.subplots(figsize=(15,6))\n",
    "\n",
    "# Create variable for easier reuse\n",
    "causes_counts = df['CONTRIBUTING FACTOR VEHICLE 1'].value_counts()[:5]\n",
    "\n",
    "# Plot bar chart \n",
    "ax.bar(causes_counts.index, causes_counts.values)\n",
    "\n",
    "# Customize appearance\n",
    "ax.set_xlabel('Contributing Factor of Vehicle 1');\n",
    "ax.set_ylabel('Count')\n",
    "ax.set_title('Distribution of Contributing Collision Factors of Vehicle 1');"
   ]
  },
  {
   "cell_type": "code",
   "execution_count": 19,
   "id": "327e0ab3",
   "metadata": {
    "scrolled": false
   },
   "outputs": [
    {
     "data": {
      "image/png": "[encoded data removed]",
      "text/plain": [
       "<Figure size 1200x800 with 1 Axes>"
      ]
     },
     "metadata": {},
     "output_type": "display_data"
    }
   ],
   "source": [
    "# Set up plots\n",
    "fig, (ax) = plt.subplots(figsize=(12,8))\n",
    "\n",
    "# Create variable for easier reuse\n",
    "category_counts = df['CONTRIBUTING CATEGORY V1'].value_counts()[:5]\n",
    "\n",
    "# Plot bar chart \n",
    "ax.bar(category_counts.index, category_counts.values,color='#2d523d')\n",
    "\n",
    "# Customize appearance\n",
    "ax.set_xlabel('Cause Category', fontsize = 20)\n",
    "ax.set_ylabel('Count', fontsize = 15)\n",
    "ax.set_title('Collision Cause Frequency', fontsize = 15)\n",
    "ax.tick_params(axis='both', which='major', labelsize=12)\n",
    "ax.tick_params(axis='both', which='minor', labelsize=12)\n",
    "ax.get_yaxis().set_major_formatter(\n",
    "    matplotlib.ticker.FuncFormatter(lambda y, p: format(int(y), ',')))\n",
    "\n",
    "ax.axhline(y=df['CONTRIBUTING CATEGORY V1'].value_counts().mean(), color='b', linewidth=3);"
   ]
  },
  {
   "cell_type": "code",
   "execution_count": 20,
   "id": "a28aab4f",
   "metadata": {},
   "outputs": [
    {
     "data": {
      "text/plain": [
       "Moving Violation               48.850731\n",
       "Driver Inattention             38.962526\n",
       "Third-Party (Vehicular)         3.794132\n",
       "Bodily Impairment               2.956600\n",
       "Environmental Factors           1.623185\n",
       "Road Conditions                 1.148335\n",
       "Vehicle Defects                 1.085707\n",
       "Third-Party (Non-Vehicular)     0.921659\n",
       "Other Distractions              0.580010\n",
       "Internal Electronics Usage      0.077116\n",
       "Name: CONTRIBUTING CATEGORY V1, dtype: float64"
      ]
     },
     "execution_count": 20,
     "metadata": {},
     "output_type": "execute_result"
    }
   ],
   "source": [
    "df['CONTRIBUTING CATEGORY V1'].value_counts(normalize=True) * 100\n"
   ]
  },
  {
   "cell_type": "code",
   "execution_count": 21,
   "id": "7068b2f3",
   "metadata": {},
   "outputs": [
    {
     "data": {
      "text/plain": [
       "21396.2"
      ]
     },
     "execution_count": 21,
     "metadata": {},
     "output_type": "execute_result"
    }
   ],
   "source": [
    "df['CONTRIBUTING CATEGORY V1'].value_counts().mean()"
   ]
  },
  {
   "cell_type": "code",
   "execution_count": 22,
   "id": "def9d7ae",
   "metadata": {},
   "outputs": [
    {
     "data": {
      "text/plain": [
       "count        10.000000\n",
       "mean      21396.200000\n",
       "std       38631.405131\n",
       "min         165.000000\n",
       "25%        2059.750000\n",
       "50%        2965.000000\n",
       "75%        7670.000000\n",
       "max      104522.000000\n",
       "Name: CONTRIBUTING CATEGORY V1, dtype: float64"
      ]
     },
     "execution_count": 22,
     "metadata": {},
     "output_type": "execute_result"
    }
   ],
   "source": [
    "df['CONTRIBUTING CATEGORY V1'].value_counts().describe()"
   ]
  },
  {
   "cell_type": "code",
   "execution_count": 25,
   "id": "c427f4b0",
   "metadata": {
    "scrolled": true
   },
   "outputs": [
    {
     "data": {
      "text/plain": [
       "213.962"
      ]
     },
     "execution_count": 25,
     "metadata": {},
     "output_type": "execute_result"
    }
   ],
   "source": [
    "df['CONTRIBUTING CATEGORY V1'].value_counts().sum().mean()/1000"
   ]
  },
  {
   "cell_type": "code",
   "execution_count": 26,
   "id": "a0fe079d",
   "metadata": {},
   "outputs": [
    {
     "data": {
      "image/png": "[encoded data removed]",
      "text/plain": [
       "<Figure size 1500x1000 with 1 Axes>"
      ]
     },
     "metadata": {},
     "output_type": "display_data"
    }
   ],
   "source": [
    "fig, ax = plt.subplots(figsize = (15 , 10))\n",
    "\n",
    "import matplotlib.ticker as ticker\n",
    "from matplotlib import pyplot as plt\n",
    "\n",
    "sns.barplot(x=df['CONTRIBUTING CATEGORY V1'].value_counts()[:5].index, \n",
    "            y=df['CONTRIBUTING CATEGORY V1'].value_counts()[:5].values)\n",
    "ax.set_xlabel('Contributing Factor Category Vehicle 1', fontsize = 20)\n",
    "ax.set_ylabel('Count of Collisions', fontsize = 20)\n",
    "ax.set_title('Contributing Collision Categories', fontsize = 20)\n",
    "plt.ticklabel_format(style='plain',axis='y')\n",
    "#ax.set_xticklabels(['Average','Good', 'Very Good'])\n",
    "#ax.tick_params(axis='both', which='major', labelsize=12);"
   ]
  },
  {
   "cell_type": "code",
   "execution_count": 27,
   "id": "3725cfa6",
   "metadata": {},
   "outputs": [
    {
     "data": {
      "image/png": "[encoded data removed]",
      "text/plain": [
       "<Figure size 1000x600 with 1 Axes>"
      ]
     },
     "metadata": {},
     "output_type": "display_data"
    }
   ],
   "source": [
    "# Set up plots\n",
    "fig, (ax) = plt.subplots(figsize=(10,6))\n",
    "\n",
    "df['IF NIGHT'].value_counts().plot(kind='bar')\n",
    "\n",
    "# Customize appearance\n",
    "ax.set_xlabel('If Night Collision');\n",
    "ax.set_ylabel('Count')\n",
    "ax.set_title('Distribution of Night Time Collisions')\n",
    "ax.tick_params(axis='x', labelrotation=0);"
   ]
  },
  {
   "cell_type": "code",
   "execution_count": null,
   "id": "f1e14dd9",
   "metadata": {},
   "outputs": [],
   "source": []
  },
  {
   "cell_type": "code",
   "execution_count": null,
   "id": "3ccc38e6",
   "metadata": {},
   "outputs": [],
   "source": []
  },
  {
   "cell_type": "code",
   "execution_count": null,
   "id": "496db957",
   "metadata": {},
   "outputs": [],
   "source": []
  },
  {
   "cell_type": "code",
   "execution_count": 28,
   "id": "66268ddc",
   "metadata": {
    "scrolled": true
   },
   "outputs": [
    {
     "name": "stdout",
     "output_type": "stream",
     "text": [
      "<class 'pandas.core.frame.DataFrame'>\n",
      "RangeIndex: 213962 entries, 0 to 213961\n",
      "Data columns (total 15 columns):\n",
      " #   Column                         Non-Null Count   Dtype         \n",
      "---  ------                         --------------   -----         \n",
      " 0   CRASH DATE TIME                213962 non-null  datetime64[ns]\n",
      " 1   BOROUGH                        213962 non-null  object        \n",
      " 2   ZIP CODE                       213962 non-null  int64         \n",
      " 3   LATITUDE                       213962 non-null  float64       \n",
      " 4   LONGITUDE                      213962 non-null  float64       \n",
      " 5   NUMBER OF PERSONS INJURED      213962 non-null  int64         \n",
      " 6   NUMBER OF PERSONS KILLED       213962 non-null  int64         \n",
      " 7   CONTRIBUTING FACTOR VEHICLE 1  213962 non-null  object        \n",
      " 8   COLLISION_ID                   213962 non-null  int64         \n",
      " 9   VEHICLE TYPE CODE 1            213962 non-null  object        \n",
      " 10  CONTRIBUTING CATEGORY V1       213962 non-null  object        \n",
      " 11  SEASON                         213962 non-null  object        \n",
      " 12  TIME OF DAY                    213962 non-null  object        \n",
      " 13  IS RUSH HOUR                   213962 non-null  bool          \n",
      " 14  IF NIGHT                       213962 non-null  bool          \n",
      "dtypes: bool(2), datetime64[ns](1), float64(2), int64(4), object(6)\n",
      "memory usage: 21.6+ MB\n"
     ]
    }
   ],
   "source": [
    "df.info()"
   ]
  },
  {
   "cell_type": "code",
   "execution_count": 29,
   "id": "4125ab13",
   "metadata": {},
   "outputs": [],
   "source": [
    "#calculate sum of sales grouped by day\n",
    "#df.groupby(df.DATETIME.dt.day)['CONTRIBUTING FACTOR VEHICLE 1'].sum()\n"
   ]
  },
  {
   "cell_type": "markdown",
   "id": "73acc000",
   "metadata": {},
   "source": [
    "### Group by"
   ]
  },
  {
   "cell_type": "code",
   "execution_count": 30,
   "id": "68b82c62",
   "metadata": {},
   "outputs": [
    {
     "name": "stdout",
     "output_type": "stream",
     "text": [
      "<class 'pandas.core.frame.DataFrame'>\n",
      "RangeIndex: 213962 entries, 0 to 213961\n",
      "Data columns (total 15 columns):\n",
      " #   Column                         Non-Null Count   Dtype         \n",
      "---  ------                         --------------   -----         \n",
      " 0   CRASH DATE TIME                213962 non-null  datetime64[ns]\n",
      " 1   BOROUGH                        213962 non-null  object        \n",
      " 2   ZIP CODE                       213962 non-null  int64         \n",
      " 3   LATITUDE                       213962 non-null  float64       \n",
      " 4   LONGITUDE                      213962 non-null  float64       \n",
      " 5   NUMBER OF PERSONS INJURED      213962 non-null  int64         \n",
      " 6   NUMBER OF PERSONS KILLED       213962 non-null  int64         \n",
      " 7   CONTRIBUTING FACTOR VEHICLE 1  213962 non-null  object        \n",
      " 8   COLLISION_ID                   213962 non-null  int64         \n",
      " 9   VEHICLE TYPE CODE 1            213962 non-null  object        \n",
      " 10  CONTRIBUTING CATEGORY V1       213962 non-null  object        \n",
      " 11  SEASON                         213962 non-null  object        \n",
      " 12  TIME OF DAY                    213962 non-null  object        \n",
      " 13  IS RUSH HOUR                   213962 non-null  bool          \n",
      " 14  IF NIGHT                       213962 non-null  bool          \n",
      "dtypes: bool(2), datetime64[ns](1), float64(2), int64(4), object(6)\n",
      "memory usage: 21.6+ MB\n"
     ]
    }
   ],
   "source": [
    "df.info()"
   ]
  },
  {
   "cell_type": "code",
   "execution_count": 31,
   "id": "5128694a",
   "metadata": {
    "scrolled": true
   },
   "outputs": [
    {
     "name": "stdout",
     "output_type": "stream",
     "text": [
      "      CRASH DATE TIME CONTRIBUTING CATEGORY V1  count\n",
      "0          2018-01-01        Bodily Impairment      4\n",
      "1          2018-01-01       Driver Inattention     45\n",
      "2          2018-01-01    Environmental Factors      2\n",
      "3          2018-01-01         Moving Violation     72\n",
      "4          2018-01-01       Other Distractions      2\n",
      "...               ...                      ...    ...\n",
      "12954      2022-12-31        Bodily Impairment      6\n",
      "12955      2022-12-31       Driver Inattention     29\n",
      "12956      2022-12-31    Environmental Factors      4\n",
      "12957      2022-12-31         Moving Violation     34\n",
      "12958      2022-12-31  Third-Party (Vehicular)      2\n",
      "\n",
      "[12959 rows x 3 columns]\n"
     ]
    }
   ],
   "source": [
    "#Group the values by day and count the number of instances of each value\n",
    "v1_cat_count = df.groupby([df['CRASH DATE TIME'].dt.date, 'CONTRIBUTING CATEGORY V1']).size().reset_index(name='count')\n",
    "\n",
    "#Print the result\n",
    "print(v1_cat_count)"
   ]
  },
  {
   "cell_type": "code",
   "execution_count": 32,
   "id": "4ede103c",
   "metadata": {},
   "outputs": [
    {
     "data": {
      "text/html": [
       "<div>\n",
       "<style scoped>\n",
       "    .dataframe tbody tr th:only-of-type {\n",
       "        vertical-align: middle;\n",
       "    }\n",
       "\n",
       "    .dataframe tbody tr th {\n",
       "        vertical-align: top;\n",
       "    }\n",
       "\n",
       "    .dataframe thead th {\n",
       "        text-align: right;\n",
       "    }\n",
       "</style>\n",
       "<table border=\"1\" class=\"dataframe\">\n",
       "  <thead>\n",
       "    <tr style=\"text-align: right;\">\n",
       "      <th>CONTRIBUTING CATEGORY V1</th>\n",
       "      <th>Bodily Impairment</th>\n",
       "      <th>Driver Inattention</th>\n",
       "      <th>Environmental Factors</th>\n",
       "      <th>Internal Electronics Usage</th>\n",
       "      <th>Moving Violation</th>\n",
       "      <th>Other Distractions</th>\n",
       "      <th>Road Conditions</th>\n",
       "      <th>Third-Party (Non-Vehicular)</th>\n",
       "      <th>Third-Party (Vehicular)</th>\n",
       "      <th>Vehicle Defects</th>\n",
       "    </tr>\n",
       "    <tr>\n",
       "      <th>CRASH DATE TIME</th>\n",
       "      <th></th>\n",
       "      <th></th>\n",
       "      <th></th>\n",
       "      <th></th>\n",
       "      <th></th>\n",
       "      <th></th>\n",
       "      <th></th>\n",
       "      <th></th>\n",
       "      <th></th>\n",
       "      <th></th>\n",
       "    </tr>\n",
       "  </thead>\n",
       "  <tbody>\n",
       "    <tr>\n",
       "      <th>2018-01-01</th>\n",
       "      <td>4.0</td>\n",
       "      <td>45.0</td>\n",
       "      <td>2.0</td>\n",
       "      <td>0.0</td>\n",
       "      <td>72.0</td>\n",
       "      <td>2.0</td>\n",
       "      <td>5.0</td>\n",
       "      <td>0.0</td>\n",
       "      <td>5.0</td>\n",
       "      <td>1.0</td>\n",
       "    </tr>\n",
       "    <tr>\n",
       "      <th>2018-01-02</th>\n",
       "      <td>1.0</td>\n",
       "      <td>73.0</td>\n",
       "      <td>8.0</td>\n",
       "      <td>0.0</td>\n",
       "      <td>83.0</td>\n",
       "      <td>3.0</td>\n",
       "      <td>3.0</td>\n",
       "      <td>2.0</td>\n",
       "      <td>9.0</td>\n",
       "      <td>6.0</td>\n",
       "    </tr>\n",
       "    <tr>\n",
       "      <th>2018-01-03</th>\n",
       "      <td>3.0</td>\n",
       "      <td>86.0</td>\n",
       "      <td>2.0</td>\n",
       "      <td>1.0</td>\n",
       "      <td>105.0</td>\n",
       "      <td>1.0</td>\n",
       "      <td>0.0</td>\n",
       "      <td>3.0</td>\n",
       "      <td>8.0</td>\n",
       "      <td>1.0</td>\n",
       "    </tr>\n",
       "    <tr>\n",
       "      <th>2018-01-04</th>\n",
       "      <td>4.0</td>\n",
       "      <td>25.0</td>\n",
       "      <td>2.0</td>\n",
       "      <td>0.0</td>\n",
       "      <td>43.0</td>\n",
       "      <td>0.0</td>\n",
       "      <td>46.0</td>\n",
       "      <td>0.0</td>\n",
       "      <td>4.0</td>\n",
       "      <td>3.0</td>\n",
       "    </tr>\n",
       "    <tr>\n",
       "      <th>2018-01-05</th>\n",
       "      <td>2.0</td>\n",
       "      <td>53.0</td>\n",
       "      <td>4.0</td>\n",
       "      <td>0.0</td>\n",
       "      <td>114.0</td>\n",
       "      <td>0.0</td>\n",
       "      <td>45.0</td>\n",
       "      <td>0.0</td>\n",
       "      <td>7.0</td>\n",
       "      <td>2.0</td>\n",
       "    </tr>\n",
       "    <tr>\n",
       "      <th>...</th>\n",
       "      <td>...</td>\n",
       "      <td>...</td>\n",
       "      <td>...</td>\n",
       "      <td>...</td>\n",
       "      <td>...</td>\n",
       "      <td>...</td>\n",
       "      <td>...</td>\n",
       "      <td>...</td>\n",
       "      <td>...</td>\n",
       "      <td>...</td>\n",
       "    </tr>\n",
       "    <tr>\n",
       "      <th>2022-12-27</th>\n",
       "      <td>2.0</td>\n",
       "      <td>15.0</td>\n",
       "      <td>0.0</td>\n",
       "      <td>0.0</td>\n",
       "      <td>27.0</td>\n",
       "      <td>0.0</td>\n",
       "      <td>0.0</td>\n",
       "      <td>1.0</td>\n",
       "      <td>2.0</td>\n",
       "      <td>0.0</td>\n",
       "    </tr>\n",
       "    <tr>\n",
       "      <th>2022-12-28</th>\n",
       "      <td>5.0</td>\n",
       "      <td>26.0</td>\n",
       "      <td>2.0</td>\n",
       "      <td>0.0</td>\n",
       "      <td>31.0</td>\n",
       "      <td>0.0</td>\n",
       "      <td>1.0</td>\n",
       "      <td>0.0</td>\n",
       "      <td>2.0</td>\n",
       "      <td>1.0</td>\n",
       "    </tr>\n",
       "    <tr>\n",
       "      <th>2022-12-29</th>\n",
       "      <td>1.0</td>\n",
       "      <td>15.0</td>\n",
       "      <td>0.0</td>\n",
       "      <td>0.0</td>\n",
       "      <td>29.0</td>\n",
       "      <td>1.0</td>\n",
       "      <td>1.0</td>\n",
       "      <td>0.0</td>\n",
       "      <td>2.0</td>\n",
       "      <td>0.0</td>\n",
       "    </tr>\n",
       "    <tr>\n",
       "      <th>2022-12-30</th>\n",
       "      <td>8.0</td>\n",
       "      <td>38.0</td>\n",
       "      <td>2.0</td>\n",
       "      <td>0.0</td>\n",
       "      <td>38.0</td>\n",
       "      <td>0.0</td>\n",
       "      <td>0.0</td>\n",
       "      <td>1.0</td>\n",
       "      <td>4.0</td>\n",
       "      <td>1.0</td>\n",
       "    </tr>\n",
       "    <tr>\n",
       "      <th>2022-12-31</th>\n",
       "      <td>6.0</td>\n",
       "      <td>29.0</td>\n",
       "      <td>4.0</td>\n",
       "      <td>0.0</td>\n",
       "      <td>34.0</td>\n",
       "      <td>0.0</td>\n",
       "      <td>0.0</td>\n",
       "      <td>0.0</td>\n",
       "      <td>2.0</td>\n",
       "      <td>0.0</td>\n",
       "    </tr>\n",
       "  </tbody>\n",
       "</table>\n",
       "<p>1826 rows × 10 columns</p>\n",
       "</div>"
      ],
      "text/plain": [
       "CONTRIBUTING CATEGORY V1  Bodily Impairment  Driver Inattention  \\\n",
       "CRASH DATE TIME                                                   \n",
       "2018-01-01                              4.0                45.0   \n",
       "2018-01-02                              1.0                73.0   \n",
       "2018-01-03                              3.0                86.0   \n",
       "2018-01-04                              4.0                25.0   \n",
       "2018-01-05                              2.0                53.0   \n",
       "...                                     ...                 ...   \n",
       "2022-12-27                              2.0                15.0   \n",
       "2022-12-28                              5.0                26.0   \n",
       "2022-12-29                              1.0                15.0   \n",
       "2022-12-30                              8.0                38.0   \n",
       "2022-12-31                              6.0                29.0   \n",
       "\n",
       "CONTRIBUTING CATEGORY V1  Environmental Factors  Internal Electronics Usage  \\\n",
       "CRASH DATE TIME                                                               \n",
       "2018-01-01                                  2.0                         0.0   \n",
       "2018-01-02                                  8.0                         0.0   \n",
       "2018-01-03                                  2.0                         1.0   \n",
       "2018-01-04                                  2.0                         0.0   \n",
       "2018-01-05                                  4.0                         0.0   \n",
       "...                                         ...                         ...   \n",
       "2022-12-27                                  0.0                         0.0   \n",
       "2022-12-28                                  2.0                         0.0   \n",
       "2022-12-29                                  0.0                         0.0   \n",
       "2022-12-30                                  2.0                         0.0   \n",
       "2022-12-31                                  4.0                         0.0   \n",
       "\n",
       "CONTRIBUTING CATEGORY V1  Moving Violation  Other Distractions  \\\n",
       "CRASH DATE TIME                                                  \n",
       "2018-01-01                            72.0                 2.0   \n",
       "2018-01-02                            83.0                 3.0   \n",
       "2018-01-03                           105.0                 1.0   \n",
       "2018-01-04                            43.0                 0.0   \n",
       "2018-01-05                           114.0                 0.0   \n",
       "...                                    ...                 ...   \n",
       "2022-12-27                            27.0                 0.0   \n",
       "2022-12-28                            31.0                 0.0   \n",
       "2022-12-29                            29.0                 1.0   \n",
       "2022-12-30                            38.0                 0.0   \n",
       "2022-12-31                            34.0                 0.0   \n",
       "\n",
       "CONTRIBUTING CATEGORY V1  Road Conditions  Third-Party (Non-Vehicular)  \\\n",
       "CRASH DATE TIME                                                          \n",
       "2018-01-01                            5.0                          0.0   \n",
       "2018-01-02                            3.0                          2.0   \n",
       "2018-01-03                            0.0                          3.0   \n",
       "2018-01-04                           46.0                          0.0   \n",
       "2018-01-05                           45.0                          0.0   \n",
       "...                                   ...                          ...   \n",
       "2022-12-27                            0.0                          1.0   \n",
       "2022-12-28                            1.0                          0.0   \n",
       "2022-12-29                            1.0                          0.0   \n",
       "2022-12-30                            0.0                          1.0   \n",
       "2022-12-31                            0.0                          0.0   \n",
       "\n",
       "CONTRIBUTING CATEGORY V1  Third-Party (Vehicular)  Vehicle Defects  \n",
       "CRASH DATE TIME                                                     \n",
       "2018-01-01                                    5.0              1.0  \n",
       "2018-01-02                                    9.0              6.0  \n",
       "2018-01-03                                    8.0              1.0  \n",
       "2018-01-04                                    4.0              3.0  \n",
       "2018-01-05                                    7.0              2.0  \n",
       "...                                           ...              ...  \n",
       "2022-12-27                                    2.0              0.0  \n",
       "2022-12-28                                    2.0              1.0  \n",
       "2022-12-29                                    2.0              0.0  \n",
       "2022-12-30                                    4.0              1.0  \n",
       "2022-12-31                                    2.0              0.0  \n",
       "\n",
       "[1826 rows x 10 columns]"
      ]
     },
     "execution_count": 32,
     "metadata": {},
     "output_type": "execute_result"
    }
   ],
   "source": [
    "#Create pivot table of daily cause categories\n",
    "pivot_table = v1_cat_count.pivot(index='CRASH DATE TIME', columns='CONTRIBUTING CATEGORY V1', values='count').fillna(0)\n",
    "pivot_table"
   ]
  },
  {
   "cell_type": "code",
   "execution_count": 33,
   "id": "f2ef3727",
   "metadata": {},
   "outputs": [
    {
     "data": {
      "text/html": [
       "<div>\n",
       "<style scoped>\n",
       "    .dataframe tbody tr th:only-of-type {\n",
       "        vertical-align: middle;\n",
       "    }\n",
       "\n",
       "    .dataframe tbody tr th {\n",
       "        vertical-align: top;\n",
       "    }\n",
       "\n",
       "    .dataframe thead th {\n",
       "        text-align: right;\n",
       "    }\n",
       "</style>\n",
       "<table border=\"1\" class=\"dataframe\">\n",
       "  <thead>\n",
       "    <tr style=\"text-align: right;\">\n",
       "      <th></th>\n",
       "      <th>CONTRIBUTING CATEGORY V1</th>\n",
       "      <th>count</th>\n",
       "    </tr>\n",
       "    <tr>\n",
       "      <th>CRASH DATE TIME</th>\n",
       "      <th></th>\n",
       "      <th></th>\n",
       "    </tr>\n",
       "  </thead>\n",
       "  <tbody>\n",
       "    <tr>\n",
       "      <th>2018-01-01</th>\n",
       "      <td>Bodily Impairment</td>\n",
       "      <td>4</td>\n",
       "    </tr>\n",
       "    <tr>\n",
       "      <th>2018-01-01</th>\n",
       "      <td>Driver Inattention</td>\n",
       "      <td>45</td>\n",
       "    </tr>\n",
       "    <tr>\n",
       "      <th>2018-01-01</th>\n",
       "      <td>Environmental Factors</td>\n",
       "      <td>2</td>\n",
       "    </tr>\n",
       "    <tr>\n",
       "      <th>2018-01-01</th>\n",
       "      <td>Moving Violation</td>\n",
       "      <td>72</td>\n",
       "    </tr>\n",
       "    <tr>\n",
       "      <th>2018-01-01</th>\n",
       "      <td>Other Distractions</td>\n",
       "      <td>2</td>\n",
       "    </tr>\n",
       "    <tr>\n",
       "      <th>...</th>\n",
       "      <td>...</td>\n",
       "      <td>...</td>\n",
       "    </tr>\n",
       "    <tr>\n",
       "      <th>2022-12-31</th>\n",
       "      <td>Bodily Impairment</td>\n",
       "      <td>6</td>\n",
       "    </tr>\n",
       "    <tr>\n",
       "      <th>2022-12-31</th>\n",
       "      <td>Driver Inattention</td>\n",
       "      <td>29</td>\n",
       "    </tr>\n",
       "    <tr>\n",
       "      <th>2022-12-31</th>\n",
       "      <td>Environmental Factors</td>\n",
       "      <td>4</td>\n",
       "    </tr>\n",
       "    <tr>\n",
       "      <th>2022-12-31</th>\n",
       "      <td>Moving Violation</td>\n",
       "      <td>34</td>\n",
       "    </tr>\n",
       "    <tr>\n",
       "      <th>2022-12-31</th>\n",
       "      <td>Third-Party (Vehicular)</td>\n",
       "      <td>2</td>\n",
       "    </tr>\n",
       "  </tbody>\n",
       "</table>\n",
       "<p>12959 rows × 2 columns</p>\n",
       "</div>"
      ],
      "text/plain": [
       "                CONTRIBUTING CATEGORY V1  count\n",
       "CRASH DATE TIME                                \n",
       "2018-01-01             Bodily Impairment      4\n",
       "2018-01-01            Driver Inattention     45\n",
       "2018-01-01         Environmental Factors      2\n",
       "2018-01-01              Moving Violation     72\n",
       "2018-01-01            Other Distractions      2\n",
       "...                                  ...    ...\n",
       "2022-12-31             Bodily Impairment      6\n",
       "2022-12-31            Driver Inattention     29\n",
       "2022-12-31         Environmental Factors      4\n",
       "2022-12-31              Moving Violation     34\n",
       "2022-12-31       Third-Party (Vehicular)      2\n",
       "\n",
       "[12959 rows x 2 columns]"
      ]
     },
     "execution_count": 33,
     "metadata": {},
     "output_type": "execute_result"
    }
   ],
   "source": [
    "#Change to a dataframe\n",
    "daily_v1cat = pd.DataFrame(v1_cat_count)\n",
    "\n",
    "#changing the index\n",
    "daily_v1cat.set_index('CRASH DATE TIME', inplace=True)#changing the index\n",
    "\n",
    "daily_v1cat"
   ]
  },
  {
   "cell_type": "code",
   "execution_count": null,
   "id": "4aef5ef3",
   "metadata": {
    "scrolled": false
   },
   "outputs": [],
   "source": [
    "# create a pivot table to reshape the data for plotting\n",
    "pivot_table = v1_cat_count.pivot(index='CRASH DATE TIME', columns='CONTRIBUTING CATEGORY V1', values='count').fillna(0)\n",
    "\n",
    "# create a bar chart of the pivot table\n",
    "pivot_table.plot(kind='bar', stacked=True)\n",
    "\n",
    "# display the chart\n",
    "plt.show()"
   ]
  },
  {
   "cell_type": "code",
   "execution_count": null,
   "id": "6eeeda16",
   "metadata": {},
   "outputs": [],
   "source": [
    "#Group the values by year and count the number of instances of each value\n",
    "v1_cat_yearcount = df.groupby([df['CRASH DATE TIME'].dt.year, 'CONTRIBUTING CATEGORY V1']).size().reset_index(name='count')\n",
    "\n",
    "#Create pivot table of daily cause categories\n",
    "yearly_cat_pivt = v1_cat_yearcount.pivot(index='CRASH DATE TIME', columns='CONTRIBUTING CATEGORY V1', values='count').fillna(0)\n",
    "yearly_cat_pivt"
   ]
  },
  {
   "cell_type": "code",
   "execution_count": null,
   "id": "e5178337",
   "metadata": {},
   "outputs": [],
   "source": [
    "# Set up plots\n",
    "#fig, ax = plt.subplots(figsize=(13, 6))\n",
    "\n",
    "# create a bar chart of the pivot table\n",
    "yearly_cat_pivt.plot(kind='bar', stacked=True)\n",
    "\n",
    "#Legend\n",
    "plt.legend(loc='upper right', fontsize='x-small')\n",
    "plt.tight_layout()\n",
    "\n",
    "# display the chart\n",
    "plt.show();"
   ]
  },
  {
   "cell_type": "code",
   "execution_count": null,
   "id": "c815511e",
   "metadata": {},
   "outputs": [],
   "source": [
    "#fig, ax = plt.subplots(figsize=(15, 8))\n",
    "\n",
    "\n",
    "#Create a bar chart of the pivot table\n",
    "yearly_cat_pivt.plot(kind='bar')\n",
    "\n",
    "#Legend\n",
    "plt.legend(loc='upper right', fontsize='x-small')\n",
    "plt.tight_layout()\n",
    "\n",
    "#Rotate x-axis ticks\n",
    "plt.tick_params(axis='x', labelrotation=0)\n",
    "\n",
    "#Display the chart\n",
    "plt.show();"
   ]
  },
  {
   "cell_type": "markdown",
   "id": "e0e0e2f7",
   "metadata": {},
   "source": [
    "### Vehicle Type"
   ]
  },
  {
   "cell_type": "code",
   "execution_count": null,
   "id": "15937e13",
   "metadata": {},
   "outputs": [],
   "source": [
    "# Set up plots\n",
    "fig, (ax) = plt.subplots(figsize=(15,6))\n",
    "\n",
    "# Create variable for easier reuse\n",
    "V1type_count = df['VEHICLE TYPE CODE 1'].value_counts()[:5]\n",
    "\n",
    "# Plot bar chart \n",
    "ax.bar(V1type_count.index, V1type_count.values)\n",
    "\n",
    "# Customize appearance\n",
    "ax.set_xlabel('Vehicle 1 Type');\n",
    "ax.set_ylabel('Count')\n",
    "ax.set_title('Top 5 Type of Vehicle 1');"
   ]
  },
  {
   "cell_type": "code",
   "execution_count": null,
   "id": "7052ee37",
   "metadata": {},
   "outputs": [],
   "source": [
    "#Group the values by day and count the number of instances of each value\n",
    "mv_count = mv.groupby('ZIP CODE').size().reset_index(name='count')\n",
    "\n",
    "#Print the result\n",
    "mv_count"
   ]
  },
  {
   "cell_type": "code",
   "execution_count": null,
   "id": "c095b99e",
   "metadata": {
    "scrolled": true
   },
   "outputs": [],
   "source": [
    "mv"
   ]
  },
  {
   "cell_type": "code",
   "execution_count": null,
   "id": "bb229d83",
   "metadata": {},
   "outputs": [],
   "source": [
    "import plotly.express as px\n",
    "\n",
    "fig = px.choropleth(mv_count,\n",
    "                    locations='State', \n",
    "                    locationmode=\"USA-states\", \n",
    "                    scope=\"usa\",\n",
    "                    color='value',\n",
    "                    color_continuous_scale=\"Viridis_r\",      \n",
    "                    )\n",
    "fig.update_layout(\n",
    "      title_text = 'Mean Home Value by State, 1996 - 2018',\n",
    "      title_font_family=\"Arial\",\n",
    "      title_font_size = 22,\n",
    "      title_font_color=\"black\", \n",
    "      title_x=0.45, \n",
    "         )\n",
    "fig.show()"
   ]
  },
  {
   "cell_type": "code",
   "execution_count": null,
   "id": "94968c5b",
   "metadata": {},
   "outputs": [],
   "source": []
  },
  {
   "cell_type": "code",
   "execution_count": null,
   "id": "76b86987",
   "metadata": {},
   "outputs": [],
   "source": []
  }
 ],
 "metadata": {
  "kernelspec": {
   "display_name": "Python 3 (ipykernel)",
   "language": "python",
   "name": "python3"
  },
  "language_info": {
   "codemirror_mode": {
    "name": "ipython",
    "version": 3
   },
   "file_extension": ".py",
   "mimetype": "text/x-python",
   "name": "python",
   "nbconvert_exporter": "python",
   "pygments_lexer": "ipython3",
   "version": "3.9.13"
  }
 },
 "nbformat": 4,
 "nbformat_minor": 5
}
