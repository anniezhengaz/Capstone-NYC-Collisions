{
 "cells": [
  {
   "cell_type": "code",
   "execution_count": 1,
   "id": "0be963c1",
   "metadata": {},
   "outputs": [],
   "source": [
    "#Import necessary functions\n",
    "import pandas as pd\n",
    "import numpy as np\n",
    "import matplotlib\n",
    "import matplotlib.pyplot as plt\n",
    "\n",
    "from datetime import datetime as dt\n",
    "\n",
    "%matplotlib inline"
   ]
  },
  {
   "cell_type": "code",
   "execution_count": 2,
   "id": "65fdcbb2",
   "metadata": {},
   "outputs": [
    {
     "data": {
      "text/html": [
       "<div>\n",
       "<style scoped>\n",
       "    .dataframe tbody tr th:only-of-type {\n",
       "        vertical-align: middle;\n",
       "    }\n",
       "\n",
       "    .dataframe tbody tr th {\n",
       "        vertical-align: top;\n",
       "    }\n",
       "\n",
       "    .dataframe thead th {\n",
       "        text-align: right;\n",
       "    }\n",
       "</style>\n",
       "<table border=\"1\" class=\"dataframe\">\n",
       "  <thead>\n",
       "    <tr style=\"text-align: right;\">\n",
       "      <th></th>\n",
       "      <th>CRASH DATE_CRASH TIME</th>\n",
       "      <th>BOROUGH</th>\n",
       "      <th>ZIP CODE</th>\n",
       "      <th>LATITUDE</th>\n",
       "      <th>LONGITUDE</th>\n",
       "      <th>LOCATION</th>\n",
       "      <th>ON STREET NAME</th>\n",
       "      <th>CROSS STREET NAME</th>\n",
       "      <th>OFF STREET NAME</th>\n",
       "      <th>NUMBER OF PERSONS INJURED</th>\n",
       "      <th>...</th>\n",
       "      <th>CONTRIBUTING FACTOR VEHICLE 2</th>\n",
       "      <th>CONTRIBUTING FACTOR VEHICLE 3</th>\n",
       "      <th>CONTRIBUTING FACTOR VEHICLE 4</th>\n",
       "      <th>CONTRIBUTING FACTOR VEHICLE 5</th>\n",
       "      <th>COLLISION_ID</th>\n",
       "      <th>VEHICLE TYPE CODE 1</th>\n",
       "      <th>VEHICLE TYPE CODE 2</th>\n",
       "      <th>VEHICLE TYPE CODE 3</th>\n",
       "      <th>VEHICLE TYPE CODE 4</th>\n",
       "      <th>VEHICLE TYPE CODE 5</th>\n",
       "    </tr>\n",
       "  </thead>\n",
       "  <tbody>\n",
       "    <tr>\n",
       "      <th>0</th>\n",
       "      <td>2021-09-11 02:39:00</td>\n",
       "      <td>NaN</td>\n",
       "      <td>NaN</td>\n",
       "      <td>NaN</td>\n",
       "      <td>NaN</td>\n",
       "      <td>NaN</td>\n",
       "      <td>WHITESTONE EXPRESSWAY</td>\n",
       "      <td>20 AVENUE</td>\n",
       "      <td>NaN</td>\n",
       "      <td>2.0</td>\n",
       "      <td>...</td>\n",
       "      <td>Unspecified</td>\n",
       "      <td>NaN</td>\n",
       "      <td>NaN</td>\n",
       "      <td>NaN</td>\n",
       "      <td>4455765</td>\n",
       "      <td>Sedan</td>\n",
       "      <td>Sedan</td>\n",
       "      <td>NaN</td>\n",
       "      <td>NaN</td>\n",
       "      <td>NaN</td>\n",
       "    </tr>\n",
       "    <tr>\n",
       "      <th>1</th>\n",
       "      <td>2022-03-26 11:45:00</td>\n",
       "      <td>NaN</td>\n",
       "      <td>NaN</td>\n",
       "      <td>NaN</td>\n",
       "      <td>NaN</td>\n",
       "      <td>NaN</td>\n",
       "      <td>QUEENSBORO BRIDGE UPPER</td>\n",
       "      <td>NaN</td>\n",
       "      <td>NaN</td>\n",
       "      <td>1.0</td>\n",
       "      <td>...</td>\n",
       "      <td>NaN</td>\n",
       "      <td>NaN</td>\n",
       "      <td>NaN</td>\n",
       "      <td>NaN</td>\n",
       "      <td>4513547</td>\n",
       "      <td>Sedan</td>\n",
       "      <td>NaN</td>\n",
       "      <td>NaN</td>\n",
       "      <td>NaN</td>\n",
       "      <td>NaN</td>\n",
       "    </tr>\n",
       "    <tr>\n",
       "      <th>2</th>\n",
       "      <td>2022-06-29 06:55:00</td>\n",
       "      <td>NaN</td>\n",
       "      <td>NaN</td>\n",
       "      <td>NaN</td>\n",
       "      <td>NaN</td>\n",
       "      <td>NaN</td>\n",
       "      <td>THROGS NECK BRIDGE</td>\n",
       "      <td>NaN</td>\n",
       "      <td>NaN</td>\n",
       "      <td>0.0</td>\n",
       "      <td>...</td>\n",
       "      <td>Unspecified</td>\n",
       "      <td>NaN</td>\n",
       "      <td>NaN</td>\n",
       "      <td>NaN</td>\n",
       "      <td>4541903</td>\n",
       "      <td>Sedan</td>\n",
       "      <td>Pick-up Truck</td>\n",
       "      <td>NaN</td>\n",
       "      <td>NaN</td>\n",
       "      <td>NaN</td>\n",
       "    </tr>\n",
       "    <tr>\n",
       "      <th>3</th>\n",
       "      <td>2021-09-11 09:35:00</td>\n",
       "      <td>BROOKLYN</td>\n",
       "      <td>11208</td>\n",
       "      <td>40.667202</td>\n",
       "      <td>-73.866500</td>\n",
       "      <td>(40.667202, -73.8665)</td>\n",
       "      <td>NaN</td>\n",
       "      <td>NaN</td>\n",
       "      <td>1211      LORING AVENUE</td>\n",
       "      <td>0.0</td>\n",
       "      <td>...</td>\n",
       "      <td>NaN</td>\n",
       "      <td>NaN</td>\n",
       "      <td>NaN</td>\n",
       "      <td>NaN</td>\n",
       "      <td>4456314</td>\n",
       "      <td>Sedan</td>\n",
       "      <td>NaN</td>\n",
       "      <td>NaN</td>\n",
       "      <td>NaN</td>\n",
       "      <td>NaN</td>\n",
       "    </tr>\n",
       "    <tr>\n",
       "      <th>4</th>\n",
       "      <td>2021-12-14 08:13:00</td>\n",
       "      <td>BROOKLYN</td>\n",
       "      <td>11233</td>\n",
       "      <td>40.683304</td>\n",
       "      <td>-73.917274</td>\n",
       "      <td>(40.683304, -73.917274)</td>\n",
       "      <td>SARATOGA AVENUE</td>\n",
       "      <td>DECATUR STREET</td>\n",
       "      <td>NaN</td>\n",
       "      <td>0.0</td>\n",
       "      <td>...</td>\n",
       "      <td>NaN</td>\n",
       "      <td>NaN</td>\n",
       "      <td>NaN</td>\n",
       "      <td>NaN</td>\n",
       "      <td>4486609</td>\n",
       "      <td>NaN</td>\n",
       "      <td>NaN</td>\n",
       "      <td>NaN</td>\n",
       "      <td>NaN</td>\n",
       "      <td>NaN</td>\n",
       "    </tr>\n",
       "  </tbody>\n",
       "</table>\n",
       "<p>5 rows × 28 columns</p>\n",
       "</div>"
      ],
      "text/plain": [
       "  CRASH DATE_CRASH TIME   BOROUGH ZIP CODE   LATITUDE  LONGITUDE  \\\n",
       "0   2021-09-11 02:39:00       NaN      NaN        NaN        NaN   \n",
       "1   2022-03-26 11:45:00       NaN      NaN        NaN        NaN   \n",
       "2   2022-06-29 06:55:00       NaN      NaN        NaN        NaN   \n",
       "3   2021-09-11 09:35:00  BROOKLYN    11208  40.667202 -73.866500   \n",
       "4   2021-12-14 08:13:00  BROOKLYN    11233  40.683304 -73.917274   \n",
       "\n",
       "                  LOCATION           ON STREET NAME CROSS STREET NAME  \\\n",
       "0                      NaN    WHITESTONE EXPRESSWAY         20 AVENUE   \n",
       "1                      NaN  QUEENSBORO BRIDGE UPPER               NaN   \n",
       "2                      NaN       THROGS NECK BRIDGE               NaN   \n",
       "3    (40.667202, -73.8665)                      NaN               NaN   \n",
       "4  (40.683304, -73.917274)          SARATOGA AVENUE    DECATUR STREET   \n",
       "\n",
       "           OFF STREET NAME  NUMBER OF PERSONS INJURED  ...  \\\n",
       "0                      NaN                        2.0  ...   \n",
       "1                      NaN                        1.0  ...   \n",
       "2                      NaN                        0.0  ...   \n",
       "3  1211      LORING AVENUE                        0.0  ...   \n",
       "4                      NaN                        0.0  ...   \n",
       "\n",
       "   CONTRIBUTING FACTOR VEHICLE 2  CONTRIBUTING FACTOR VEHICLE 3  \\\n",
       "0                    Unspecified                            NaN   \n",
       "1                            NaN                            NaN   \n",
       "2                    Unspecified                            NaN   \n",
       "3                            NaN                            NaN   \n",
       "4                            NaN                            NaN   \n",
       "\n",
       "   CONTRIBUTING FACTOR VEHICLE 4  CONTRIBUTING FACTOR VEHICLE 5  COLLISION_ID  \\\n",
       "0                            NaN                            NaN       4455765   \n",
       "1                            NaN                            NaN       4513547   \n",
       "2                            NaN                            NaN       4541903   \n",
       "3                            NaN                            NaN       4456314   \n",
       "4                            NaN                            NaN       4486609   \n",
       "\n",
       "   VEHICLE TYPE CODE 1  VEHICLE TYPE CODE 2 VEHICLE TYPE CODE 3  \\\n",
       "0                Sedan                Sedan                 NaN   \n",
       "1                Sedan                  NaN                 NaN   \n",
       "2                Sedan        Pick-up Truck                 NaN   \n",
       "3                Sedan                  NaN                 NaN   \n",
       "4                  NaN                  NaN                 NaN   \n",
       "\n",
       "  VEHICLE TYPE CODE 4 VEHICLE TYPE CODE 5  \n",
       "0                 NaN                 NaN  \n",
       "1                 NaN                 NaN  \n",
       "2                 NaN                 NaN  \n",
       "3                 NaN                 NaN  \n",
       "4                 NaN                 NaN  \n",
       "\n",
       "[5 rows x 28 columns]"
      ]
     },
     "execution_count": 2,
     "metadata": {},
     "output_type": "execute_result"
    }
   ],
   "source": [
    "#Import the dataset and merge Crash Date and Crash Time columns\n",
    "df = pd.read_csv('data/Motor_Vehicle_Collisions_-_Crashes.csv', low_memory=False, parse_dates=[['CRASH DATE', 'CRASH TIME']])\n",
    "\n",
    "#Initial look into dataset\n",
    "df.head()"
   ]
  },
  {
   "cell_type": "code",
   "execution_count": 3,
   "id": "0faaeb10",
   "metadata": {},
   "outputs": [
    {
     "name": "stdout",
     "output_type": "stream",
     "text": [
      "<class 'pandas.core.frame.DataFrame'>\n",
      "RangeIndex: 1979921 entries, 0 to 1979920\n",
      "Data columns (total 28 columns):\n",
      " #   Column                         Dtype         \n",
      "---  ------                         -----         \n",
      " 0   CRASH DATE_CRASH TIME          datetime64[ns]\n",
      " 1   BOROUGH                        object        \n",
      " 2   ZIP CODE                       object        \n",
      " 3   LATITUDE                       float64       \n",
      " 4   LONGITUDE                      float64       \n",
      " 5   LOCATION                       object        \n",
      " 6   ON STREET NAME                 object        \n",
      " 7   CROSS STREET NAME              object        \n",
      " 8   OFF STREET NAME                object        \n",
      " 9   NUMBER OF PERSONS INJURED      float64       \n",
      " 10  NUMBER OF PERSONS KILLED       float64       \n",
      " 11  NUMBER OF PEDESTRIANS INJURED  int64         \n",
      " 12  NUMBER OF PEDESTRIANS KILLED   int64         \n",
      " 13  NUMBER OF CYCLIST INJURED      int64         \n",
      " 14  NUMBER OF CYCLIST KILLED       int64         \n",
      " 15  NUMBER OF MOTORIST INJURED     int64         \n",
      " 16  NUMBER OF MOTORIST KILLED      int64         \n",
      " 17  CONTRIBUTING FACTOR VEHICLE 1  object        \n",
      " 18  CONTRIBUTING FACTOR VEHICLE 2  object        \n",
      " 19  CONTRIBUTING FACTOR VEHICLE 3  object        \n",
      " 20  CONTRIBUTING FACTOR VEHICLE 4  object        \n",
      " 21  CONTRIBUTING FACTOR VEHICLE 5  object        \n",
      " 22  COLLISION_ID                   int64         \n",
      " 23  VEHICLE TYPE CODE 1            object        \n",
      " 24  VEHICLE TYPE CODE 2            object        \n",
      " 25  VEHICLE TYPE CODE 3            object        \n",
      " 26  VEHICLE TYPE CODE 4            object        \n",
      " 27  VEHICLE TYPE CODE 5            object        \n",
      "dtypes: datetime64[ns](1), float64(4), int64(7), object(16)\n",
      "memory usage: 423.0+ MB\n"
     ]
    }
   ],
   "source": [
    "df.info()"
   ]
  },
  {
   "cell_type": "markdown",
   "id": "47d25d71",
   "metadata": {},
   "source": [
    "#### Changing DateTime Index"
   ]
  },
  {
   "cell_type": "code",
   "execution_count": 4,
   "id": "3293235d",
   "metadata": {},
   "outputs": [],
   "source": [
    "#Rename crash date column\n",
    "df.rename(columns = {'CRASH DATE_CRASH TIME':'CRASH DATE'}, inplace = True)\n",
    "\n",
    "#Set to datetime index\n",
    "df.set_index('CRASH DATE', inplace=True)"
   ]
  },
  {
   "cell_type": "code",
   "execution_count": 5,
   "id": "13b29c1c",
   "metadata": {},
   "outputs": [],
   "source": [
    "#Filter to crashes between 2018-2023\n",
    "df = df['2018-01-01':'2023-01-01']"
   ]
  },
  {
   "cell_type": "code",
   "execution_count": 6,
   "id": "d6b610b6",
   "metadata": {},
   "outputs": [
    {
     "name": "stdout",
     "output_type": "stream",
     "text": [
      "2018-01-01 00:00:00\n",
      "2023-01-01 23:45:00\n"
     ]
    }
   ],
   "source": [
    "#Sanity check of data time frame\n",
    "print (df.index.min())\n",
    "print (df.index.max())"
   ]
  },
  {
   "cell_type": "code",
   "execution_count": 7,
   "id": "f55ab787",
   "metadata": {},
   "outputs": [],
   "source": [
    "#Sort the index in ascending order\n",
    "df = df.sort_index()"
   ]
  },
  {
   "cell_type": "markdown",
   "id": "38f39263",
   "metadata": {},
   "source": [
    "#### Borough Selection"
   ]
  },
  {
   "cell_type": "code",
   "execution_count": 8,
   "id": "cb7fc484",
   "metadata": {},
   "outputs": [],
   "source": [
    "#Filter for collisions in Brooklyn and Queens borough\n",
    "df = df.loc[(df['BOROUGH'] == 'BROOKLYN') | (df['BOROUGH'] == 'QUEENS')]"
   ]
  },
  {
   "cell_type": "code",
   "execution_count": 9,
   "id": "a34d5a8d",
   "metadata": {},
   "outputs": [
    {
     "data": {
      "text/plain": [
       "array(['BROOKLYN', 'QUEENS'], dtype=object)"
      ]
     },
     "execution_count": 9,
     "metadata": {},
     "output_type": "execute_result"
    }
   ],
   "source": [
    "#Sanity check to ensure only two boroughs are included\n",
    "df['BOROUGH'].unique()"
   ]
  },
  {
   "cell_type": "code",
   "execution_count": 10,
   "id": "de654e74",
   "metadata": {
    "scrolled": true
   },
   "outputs": [
    {
     "name": "stdout",
     "output_type": "stream",
     "text": [
      "<class 'pandas.core.frame.DataFrame'>\n",
      "DatetimeIndex: 305681 entries, 2018-01-01 00:00:00 to 2023-01-01 23:30:00\n",
      "Data columns (total 27 columns):\n",
      " #   Column                         Non-Null Count   Dtype  \n",
      "---  ------                         --------------   -----  \n",
      " 0   BOROUGH                        305681 non-null  object \n",
      " 1   ZIP CODE                       305578 non-null  object \n",
      " 2   LATITUDE                       298746 non-null  float64\n",
      " 3   LONGITUDE                      298746 non-null  float64\n",
      " 4   LOCATION                       298746 non-null  object \n",
      " 5   ON STREET NAME                 193703 non-null  object \n",
      " 6   CROSS STREET NAME              193503 non-null  object \n",
      " 7   OFF STREET NAME                111978 non-null  object \n",
      " 8   NUMBER OF PERSONS INJURED      305678 non-null  float64\n",
      " 9   NUMBER OF PERSONS KILLED       305679 non-null  float64\n",
      " 10  NUMBER OF PEDESTRIANS INJURED  305681 non-null  int64  \n",
      " 11  NUMBER OF PEDESTRIANS KILLED   305681 non-null  int64  \n",
      " 12  NUMBER OF CYCLIST INJURED      305681 non-null  int64  \n",
      " 13  NUMBER OF CYCLIST KILLED       305681 non-null  int64  \n",
      " 14  NUMBER OF MOTORIST INJURED     305681 non-null  int64  \n",
      " 15  NUMBER OF MOTORIST KILLED      305681 non-null  int64  \n",
      " 16  CONTRIBUTING FACTOR VEHICLE 1  304302 non-null  object \n",
      " 17  CONTRIBUTING FACTOR VEHICLE 2  246228 non-null  object \n",
      " 18  CONTRIBUTING FACTOR VEHICLE 3  23851 non-null   object \n",
      " 19  CONTRIBUTING FACTOR VEHICLE 4  6190 non-null    object \n",
      " 20  CONTRIBUTING FACTOR VEHICLE 5  1919 non-null    object \n",
      " 21  COLLISION_ID                   305681 non-null  int64  \n",
      " 22  VEHICLE TYPE CODE 1            302717 non-null  object \n",
      " 23  VEHICLE TYPE CODE 2            219631 non-null  object \n",
      " 24  VEHICLE TYPE CODE 3            22353 non-null   object \n",
      " 25  VEHICLE TYPE CODE 4            5947 non-null    object \n",
      " 26  VEHICLE TYPE CODE 5            1858 non-null    object \n",
      "dtypes: float64(4), int64(7), object(16)\n",
      "memory usage: 65.3+ MB\n"
     ]
    }
   ],
   "source": [
    "df.info()"
   ]
  },
  {
   "cell_type": "code",
   "execution_count": 11,
   "id": "4cb6bc23",
   "metadata": {},
   "outputs": [],
   "source": [
    "#Export 2018-2023 dataset as a .csv as main datset\n",
    "df.to_csv('Motor_Vehicle_Collisions_QuBr_2018-2023.csv')"
   ]
  },
  {
   "cell_type": "code",
   "execution_count": null,
   "id": "1aea1806",
   "metadata": {},
   "outputs": [],
   "source": []
  }
 ],
 "metadata": {
  "kernelspec": {
   "display_name": "Python 3 (ipykernel)",
   "language": "python",
   "name": "python3"
  },
  "language_info": {
   "codemirror_mode": {
    "name": "ipython",
    "version": 3
   },
   "file_extension": ".py",
   "mimetype": "text/x-python",
   "name": "python",
   "nbconvert_exporter": "python",
   "pygments_lexer": "ipython3",
   "version": "3.9.13"
  }
 },
 "nbformat": 4,
 "nbformat_minor": 5
}
